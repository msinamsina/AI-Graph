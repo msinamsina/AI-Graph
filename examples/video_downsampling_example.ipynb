{
 "cells": [
  {
   "cell_type": "markdown",
   "metadata": {},
   "source": [
    "# Video Downsampling with VideoDownsamplingStep\n",
    "\n",
    "This Jupyter Notebook demonstrates how to use the `VideoDownsamplingStep` class from the `ai_graph` Python package to downsample a video to a specified frames-per-second (FPS), resolution, and format. The code uses FFmpeg for video processing and supports GPU acceleration if available. We'll also download a sample video using `wget` to test the downsampling process.\n",
    "\n",
    "## Prerequisites\n",
    "- **FFmpeg**: Ensure FFmpeg is installed and accessible in your system's PATH.\n",
    "- **Python Libraries**: Install required libraries (`ai_graph`, `opencv-python`, `torch`).\n",
    "- **wget**: For downloading the sample video.\n",
    "\n",
    "Let's walk through the process step-by-step."
   ]
  },
  {
   "cell_type": "markdown",
   "metadata": {},
   "source": [
    "## Step 1: Install Required Libraries\n",
    "\n",
    "First, let's install the necessary Python libraries. Run the following cell to install `ai_graph`, `opencv-python`, and `torch` if they are not already installed."
   ]
  },
  {
   "cell_type": "code",
   "execution_count": null,
   "metadata": {},
   "outputs": [],
   "source": [
    "!pip install ai_graph opencv-python torch"
   ]
  },
  {
   "cell_type": "markdown",
   "metadata": {},
   "source": [
    "## Step 2: Download a Sample Video\n",
    "\n",
    "We'll use `wget` to download a sample video from a public source. For this example, we'll download a short, royalty-free video from [Pexels](https://www.pexels.com). The video will be saved as `sample_video.mp4`."
   ]
  },
  {
   "cell_type": "code",
   "execution_count": null,
   "metadata": {},
   "outputs": [
    {
     "name": "stderr",
     "output_type": "stream",
     "text": [
      "--2025-08-18 17:11:46--  https://www.pexels.com/video/857251/download/\n",
      "Resolving www.pexels.com (www.pexels.com)... 10.10.34.36\n",
      "Connecting to www.pexels.com (www.pexels.com)|10.10.34.36|:443... failed: Unknown error.\n",
      "Retrying.\n",
      "\n",
      "--2025-08-18 17:12:09--  (try: 2)  https://www.pexels.com/video/857251/download/\n",
      "Connecting to www.pexels.com (www.pexels.com)|10.10.34.36|:443... failed: Unknown error.\n",
      "Retrying.\n",
      "\n",
      "--2025-08-18 17:12:32--  (try: 3)  https://www.pexels.com/video/857251/download/\n",
      "Connecting to www.pexels.com (www.pexels.com)|10.10.34.36|:443... failed: Unknown error.\n",
      "Retrying.\n",
      "\n",
      "--2025-08-18 17:12:56--  (try: 4)  https://www.pexels.com/video/857251/download/\n",
      "Connecting to www.pexels.com (www.pexels.com)|10.10.34.36|:443... failed: Unknown error.\n",
      "Retrying.\n",
      "\n",
      "--2025-08-18 17:13:21--  (try: 5)  https://www.pexels.com/video/857251/download/\n",
      "Connecting to www.pexels.com (www.pexels.com)|10.10.34.36|:443... failed: Unknown error.\n",
      "Retrying.\n",
      "\n",
      "--2025-08-18 17:13:47--  (try: 6)  https://www.pexels.com/video/857251/download/\n",
      "Connecting to www.pexels.com (www.pexels.com)|10.10.34.36|:443... failed: Unknown error.\n",
      "Retrying.\n",
      "\n",
      "--2025-08-18 17:14:14--  (try: 7)  https://www.pexels.com/video/857251/download/\n",
      "Connecting to www.pexels.com (www.pexels.com)|10.10.34.36|:443... failed: Unknown error.\n",
      "Retrying.\n",
      "\n",
      "--2025-08-18 17:14:42--  (try: 8)  https://www.pexels.com/video/857251/download/\n",
      "Connecting to www.pexels.com (www.pexels.com)|10.10.34.36|:443... failed: Unknown error.\n",
      "Retrying.\n",
      "\n",
      "--2025-08-18 17:15:11--  (try: 9)  https://www.pexels.com/video/857251/download/\n",
      "Connecting to www.pexels.com (www.pexels.com)|10.10.34.36|:443... failed: Unknown error.\n",
      "Retrying.\n",
      "\n",
      "--2025-08-18 17:15:41--  (try:10)  https://www.pexels.com/video/857251/download/\n",
      "Connecting to www.pexels.com (www.pexels.com)|10.10.34.36|:443... failed: Unknown error.\n",
      "Retrying.\n",
      "\n",
      "--2025-08-18 17:16:12--  (try:11)  https://www.pexels.com/video/857251/download/\n",
      "Connecting to www.pexels.com (www.pexels.com)|10.10.34.36|:443... failed: Unknown error.\n",
      "Retrying.\n",
      "\n",
      "--2025-08-18 17:16:43--  (try:12)  https://www.pexels.com/video/857251/download/\n",
      "Connecting to www.pexels.com (www.pexels.com)|10.10.34.36|:443... failed: Unknown error.\n",
      "Retrying.\n",
      "\n",
      "--2025-08-18 17:17:14--  (try:13)  https://www.pexels.com/video/857251/download/\n",
      "Connecting to www.pexels.com (www.pexels.com)|10.10.34.36|:443... failed: Unknown error.\n",
      "Retrying.\n",
      "\n",
      "--2025-08-18 17:17:45--  (try:14)  https://www.pexels.com/video/857251/download/\n",
      "Connecting to www.pexels.com (www.pexels.com)|10.10.34.36|:443... failed: Unknown error.\n",
      "Retrying.\n",
      "\n",
      "--2025-08-18 17:18:16--  (try:15)  https://www.pexels.com/video/857251/download/\n",
      "Connecting to www.pexels.com (www.pexels.com)|10.10.34.36|:443... failed: Unknown error.\n",
      "Retrying.\n",
      "\n",
      "--2025-08-18 17:18:47--  (try:16)  https://www.pexels.com/video/857251/download/\n",
      "Connecting to www.pexels.com (www.pexels.com)|10.10.34.36|:443... failed: Unknown error.\n",
      "Retrying.\n",
      "\n",
      "--2025-08-18 17:19:19--  (try:17)  https://www.pexels.com/video/857251/download/\n",
      "Connecting to www.pexels.com (www.pexels.com)|10.10.34.36|:443... failed: Unknown error.\n",
      "Retrying.\n",
      "\n",
      "--2025-08-18 17:19:50--  (try:18)  https://www.pexels.com/video/857251/download/\n",
      "Connecting to www.pexels.com (www.pexels.com)|10.10.34.36|:443... failed: Unknown error.\n",
      "Retrying.\n",
      "\n",
      "--2025-08-18 17:20:21--  (try:19)  https://www.pexels.com/video/857251/download/\n",
      "Connecting to www.pexels.com (www.pexels.com)|10.10.34.36|:443... failed: Unknown error.\n",
      "Retrying.\n",
      "\n",
      "--2025-08-18 17:20:52--  (try:20)  https://www.pexels.com/video/857251/download/\n",
      "Connecting to www.pexels.com (www.pexels.com)|10.10.34.36|:443... failed: Unknown error.\n",
      "Giving up.\n",
      "\n"
     ]
    }
   ],
   "source": [
    "import os\n",
    "\n",
    "# Download a sample video using wget\n",
    "video_url = \"https://sample-videos.com/video321/mp4/720/big_buck_bunny_720p_50mb.mp4\"\n",
    "video_file_name = \"sample_video.mp4\"\n",
    "!wget -O {video_file_name} {video_url}\n",
    "\n",
    "# Verify the video was downloaded\n",
    "if os.path.isfile(video_file_name):\n",
    "    print(f\"Sample video downloaded successfully: {video_file_name}\")\n",
    "else:\n",
    "    print(\"Failed to download the sample video.\")"
   ]
  },
  {
   "cell_type": "markdown",
   "metadata": {},
   "source": [
    "## Step 3: Import the VideoDownsamplingStep\n",
    "\n",
    "The `VideoDownsamplingStep` class is part of the `ai_graph` package. It handles video downsampling by adjusting FPS, resolution, and/or format using FFmpeg. Below, we import the necessary classes from `ai_graph`."
   ]
  },
  {
   "cell_type": "code",
   "execution_count": null,
   "metadata": {},
   "outputs": [],
   "source": [
    "from ai_graph.pipeline.base import Pipeline\n",
    "from ai_graph.step.video.video_downsampling import VideoDownsamplingStep\n",
    "import logging\n",
    "import os\n",
    "import cv2"
   ]
  },
  {
   "cell_type": "markdown",
   "metadata": {},
   "source": [
    "## Step 4: Set Up Logging\n",
    "\n",
    "To see detailed logs during the downsampling process, let's configure the logging module."
   ]
  },
  {
   "cell_type": "code",
   "execution_count": null,
   "metadata": {},
   "outputs": [],
   "source": [
    "logging.basicConfig(level=logging.INFO, format='%(asctime)s - %(levelname)s - %(message)s')"
   ]
  },
  {
   "cell_type": "markdown",
   "metadata": {},
   "source": [
    "## Step 5: Run the Video Downsampling Pipeline\n",
    "\n",
    "Now, let's create a pipeline, add the `VideoDownsamplingStep`, and process the downloaded sample video. We'll downsample it to 1 FPS, 640x360 resolution, and MP4 format."
   ]
  },
  {
   "cell_type": "code",
   "execution_count": null,
   "metadata": {},
   "outputs": [],
   "source": [
    "# Define the path to the input video\n",
    "video_path = os.path.abspath(video_file_name)\n",
    "\n",
    "# Define output parameters\n",
    "output_fps = 1\n",
    "output_resolution = \"640x360\"\n",
    "output_format = \"mp4\"\n",
    "\n",
    "# Create a pipeline\n",
    "pipeline = Pipeline(name=\"VideoDownsamplingPipeline\")\n",
    "\n",
    "# Add the VideoDownsamplingStep to the pipeline\n",
    "pipeline.add_step(\n",
    "    VideoDownsamplingStep(\n",
    "        output_fps=output_fps,\n",
    "        output_resolution=output_resolution,\n",
    "        output_format=output_format,\n",
    "        name=\"DownsampleVideo\"\n",
    "    )\n",
    ")\n",
    "\n",
    "# Prepare the input data for the pipeline\n",
    "input_data = {\"video_path\": video_path}\n",
    "\n",
    "print(f\"Starting video downsampling for: {video_path}\")\n",
    "print(f\"Target FPS: {output_fps}, Resolution: {output_resolution}, Format: {output_format}\")\n",
    "\n",
    "# Process the video through the pipeline\n",
    "result = pipeline.process(input_data)\n",
    "\n",
    "print(\"\\nVideo downsampling pipeline completed.\")\n",
    "print(\"Result:\")\n",
    "print(result)\n",
    "\n",
    "# Check the downsampled video path\n",
    "if \"video_path\" in result:\n",
    "    print(f\"Downsampled video saved to: {result['video_path']}\")\n",
    "else:\n",
    "    print(\"Downsampled video path not found in result.\")"
   ]
  },
  {
   "cell_type": "markdown",
   "metadata": {},
   "source": [
    "## Step 6: Verify the Output\n",
    "\n",
    "After running the pipeline, the downsampled video should be saved in the same directory as the input video with a `_downsampled` suffix (e.g., `sample_video_downsampled.mp4`). You can verify the output file exists and check its properties using `cv2`."
   ]
  },
  {
   "cell_type": "code",
   "execution_count": null,
   "metadata": {},
   "outputs": [],
   "source": [
    "# Verify the output video\n",
    "if \"video_path\" in result and os.path.isfile(result[\"video_path\"]):\n",
    "    cap = cv2.VideoCapture(result[\"video_path\"])\n",
    "    if cap.isOpened():\n",
    "        fps = cap.get(cv2.CAP_PROP_FPS)\n",
    "        width = int(cap.get(cv2.CAP_PROP_FRAME_WIDTH))\n",
    "        height = int(cap.get(cv2.CAP_PROP_FRAME_HEIGHT))\n",
    "        print(f\"Output video FPS: {fps}\")\n",
    "        print(f\"Output video resolution: {width}x{height}\")\n",
    "        cap.release()\n",
    "    else:\n",
    "        print(\"Failed to open the downsampled video.\")\n",
    "else:\n",
    "    print(\"Output video file not found.\")"
   ]
  },
  {
   "cell_type": "markdown",
   "metadata": {},
   "source": [
    "## Explanation of the Code\n",
    "\n",
    "- **VideoDownsamplingStep**: This class, part of the `ai_graph.step.video` module, inherits from `BasePipelineStep` and handles video downsampling. It takes parameters like `output_fps`, `output_resolution`, and `output_format` to specify the target video properties.\n",
    "- **_process_step**: This method checks the input video, retrieves its original FPS using OpenCV, and decides whether downsampling is needed. It constructs the output filename and calls `_downsample_video`.\n",
    "- **_downsample_video**: This method builds and executes an FFmpeg command to perform the downsampling. It supports GPU acceleration (using `h264_nvenc`) if a CUDA-enabled GPU is detected via `torch.cuda.is_available()`. Otherwise, it uses CPU-based encoding (`libx264` for MP4, `libvpx-vp9` for WebM).\n",
    "- **Pipeline**: The `Pipeline` class from `ai_graph.pipeline.base` manages the execution of steps. In this case, it only contains the `VideoDownsamplingStep`.\n",
    "\n",
    "## Notes\n",
    "- Ensure FFmpeg is installed and accessible in your system's PATH.\n",
    "- If you have a CUDA-enabled GPU, the code will attempt to use hardware acceleration, which can significantly speed up processing.\n",
    "- The output video is saved with a `_downsampled` suffix in the same directory as the input video.\n",
    "- If the original FPS matches the target FPS, the downsampling step is skipped to avoid unnecessary processing."
   ]
  },
  {
   "cell_type": "markdown",
   "metadata": {},
   "source": []
  }
 ],
 "metadata": {
  "kernelspec": {
   "display_name": "Python 3",
   "language": "python",
   "name": "python3"
  },
  "language_info": {
   "codemirror_mode": {
    "name": "ipython",
    "version": 3
   },
   "file_extension": ".py",
   "mimetype": "text/x-python",
   "name": "python",
   "nbconvert_exporter": "python",
   "pygments_lexer": "ipython3",
   "version": "3.8.0"
  }
 },
 "nbformat": 4,
 "nbformat_minor": 4
}
